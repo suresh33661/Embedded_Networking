{
 "cells": [
  {
   "cell_type": "code",
   "execution_count": 1,
   "id": "9b66123c",
   "metadata": {},
   "outputs": [],
   "source": []
  },
  {
   "cell_type": "code",
   "execution_count": null,
   "id": "d8ac5612",
   "metadata": {},
   "outputs": [
    {
     "name": "stderr",
     "output_type": "stream",
     "text": [
      "Exception in thread Thread-5:\n",
      "Traceback (most recent call last):\n",
      "  File \"C:\\Users\\sures\\anaconda3\\lib\\threading.py\", line 973, in _bootstrap_inner\n",
      "    self.run()\n",
      "  File \"C:\\Users\\sures\\anaconda3\\lib\\threading.py\", line 910, in run\n",
      "    self._target(*self._args, **self._kwargs)\n",
      "  File \"C:\\Users\\sures\\AppData\\Local\\Temp\\ipykernel_15324\\2319924247.py\", line 45, in read_serial\n",
      "  File \"C:\\Users\\sures\\anaconda3\\lib\\site-packages\\serial\\serialwin32.py\", line 259, in in_waiting\n",
      "    raise SerialException(\"ClearCommError failed ({!r})\".format(ctypes.WinError()))\n",
      "serial.serialutil.SerialException: ClearCommError failed (OSError(9, 'The handle is invalid.', None, 6))\n",
      "Exception in Tkinter callback\n",
      "Traceback (most recent call last):\n",
      "  File \"C:\\Users\\sures\\anaconda3\\lib\\tkinter\\__init__.py\", line 1889, in __call__\n",
      "    try:\n",
      "KeyboardInterrupt\n"
     ]
    }
   ],
   "source": [
    "import tkinter as tk\n",
    "from tkinter import scrolledtext, messagebox\n",
    "import serial\n",
    "import threading\n",
    "import time\n",
    "\n",
    "class ESP32SerialApp:\n",
    "    def __init__(self, master):\n",
    "        self.master = master\n",
    "        self.master.title(\"ESP32 Serial Communication\")\n",
    "        \n",
    "        self.ser = serial.Serial('COM6', 115200, timeout=1)  # Update to your COM port\n",
    "\n",
    "        self.label = tk.Label(master, text=\"Enter a string of words (A-Z or a-z):\")\n",
    "        self.label.pack()\n",
    "\n",
    "        self.entry = tk.Entry(master, width=50)\n",
    "        self.entry.pack()\n",
    "\n",
    "        self.send_button = tk.Button(master, text=\"Send\", command=self.send_data)\n",
    "        self.send_button.pack()\n",
    "\n",
    "        self.output_area = scrolledtext.ScrolledText(master, width=60, height=15)\n",
    "        self.output_area.pack()\n",
    "\n",
    "        self.read_thread = threading.Thread(target=self.read_serial)\n",
    "        self.read_thread.daemon = True  # Daemonize thread\n",
    "        self.read_thread.start()\n",
    "\n",
    "    def send_data(self):\n",
    "        input_string = self.entry.get()\n",
    "        if input_string:\n",
    "            try:\n",
    "                self.ser.write((input_string + '\\n').encode('utf-8'))  # Send data\n",
    "                self.entry.delete(0, tk.END)  # Clear entry\n",
    "            except Exception as e:\n",
    "                messagebox.showerror(\"Error\", f\"Could not send data: {e}\")\n",
    "\n",
    "    def read_serial(self):\n",
    "        while True:\n",
    "            if self.ser.in_waiting > 0:  \n",
    "                line = self.ser.readline().decode('utf-8').rstrip()  # Read line\n",
    "                self.output_area.insert(tk.END, line + '\\n')  # Insert into output area\n",
    "                self.output_area.yview(tk.END)  # Scroll to the end\n",
    "\n",
    "    def close_serial(self):\n",
    "        if self.ser.is_open:\n",
    "            self.ser.close()\n",
    "\n",
    "if __name__ == \"__main__\":\n",
    "    root = tk.Tk()\n",
    "    app = ESP32SerialApp(root)\n",
    "    root.protocol(\"WM_DELETE_WINDOW\", app.close_serial)  # Handle window close\n",
    "    root.mainloop()\n"
   ]
  },
  {
   "cell_type": "code",
   "execution_count": null,
   "id": "f1b4ccf0",
   "metadata": {},
   "outputs": [],
   "source": []
  }
 ],
 "metadata": {
  "kernelspec": {
   "display_name": "Python 3 (ipykernel)",
   "language": "python",
   "name": "python3"
  },
  "language_info": {
   "codemirror_mode": {
    "name": "ipython",
    "version": 3
   },
   "file_extension": ".py",
   "mimetype": "text/x-python",
   "name": "python",
   "nbconvert_exporter": "python",
   "pygments_lexer": "ipython3",
   "version": "3.9.12"
  }
 },
 "nbformat": 4,
 "nbformat_minor": 5
}
